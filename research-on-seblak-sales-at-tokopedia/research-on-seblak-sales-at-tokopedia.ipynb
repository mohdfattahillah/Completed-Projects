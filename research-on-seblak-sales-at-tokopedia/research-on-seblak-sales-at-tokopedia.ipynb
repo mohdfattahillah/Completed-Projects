{
 "cells": [
  {
   "cell_type": "markdown",
   "metadata": {},
   "source": [
    "# Research On Seblak Sales At Tokopedia\n",
    "\n",
    "*This program was created to see the consistency of seblak sales on Tokopedia, whether it could be a good business prospect or not.*"
   ]
  },
  {
   "cell_type": "markdown",
   "metadata": {},
   "source": [
    "## A. Web Scraping"
   ]
  },
  {
   "cell_type": "markdown",
   "metadata": {},
   "source": [
    "In order to analyze Seblak products on the Tokopedia platform, the first step that needs to be taken is to carry out a web scraping process on the website. The main focus of this web scraping is to collect data specifically related to the search for \"Seblak\".\n",
    "\n",
    "The data that will be extracted from the Tokopedia search page includes several key information, including:\n",
    "\n",
    "- **Product Name**: Information regarding the names of available Seblak products.\n",
    "- **Product Price**: Price range of Seblak products offered.\n",
    "- **Seller Name**: Identify the names of sellers who market Seblak products.\n",
    "- **Store City**: Geographic location or hometown of the seller's shop.\n",
    "- **Number Sold**: The total number of Seblak products that have been sold from each seller.\n",
    "- **Product Rating**: Value or rating that reflects the quality of Seblak products.\n",
    "\n",
    "By collecting and analyzing this data, we will have a strong basis for understanding sales trends, price developments, buyer preferences, and other factors that may influence the performance of Seblak products in the Tokopedia environment."
   ]
  },
  {
   "cell_type": "markdown",
   "metadata": {},
   "source": [
    "Importing the required libraries, defining urls, and setting up webdriver:"
   ]
  },
  {
   "cell_type": "code",
   "execution_count": 31,
   "metadata": {},
   "outputs": [],
   "source": [
    "import time\n",
    "from selenium import webdriver\n",
    "from bs4 import BeautifulSoup\n",
    "import pandas as pd\n",
    "from selenium.webdriver.support.ui import WebDriverWait\n",
    "from selenium.webdriver.support import expected_conditions as EC\n",
    "from selenium.webdriver.common.by import By\n",
    "\n",
    "url = 'https://tokopedia.com/search?navsource=&page=1&q=seblak&srp_component_id=02.01.00.00&srp_page_id=&srp_page_title=&st='\n",
    "\n",
    "driver = webdriver.Firefox(executable_path=r'/Users/mohdfattahillah/Documents/PERSONAL/HACKTIV8/geckodriver')\n",
    "driver.get(url)                  "
   ]
  },
  {
   "cell_type": "markdown",
   "metadata": {},
   "source": [
    "Running a web scraping process to collect Seblak product data from the Tokopedia website:\n",
    "\n",
    "- Repeat 10 times to retrieve data from 10 pages.\n",
    "- Wait for the \"zeus-root\" element to appear and scroll down.\n",
    "- Parse pages using BeautifulSoup for data extraction.\n",
    "- Retrieve information such as product name, product price, seller, shop city, quantity sold, and product rating.\n",
    "- If information is missing, replaced with 'None'.\n",
    "- Data is collected in a data list.\n",
    "- Once the loop is complete, the data is converted into a DataFrame with appropriate columns."
   ]
  },
  {
   "cell_type": "code",
   "execution_count": 33,
   "metadata": {},
   "outputs": [
    {
     "data": {
      "text/html": [
       "<div>\n",
       "<style scoped>\n",
       "    .dataframe tbody tr th:only-of-type {\n",
       "        vertical-align: middle;\n",
       "    }\n",
       "\n",
       "    .dataframe tbody tr th {\n",
       "        vertical-align: top;\n",
       "    }\n",
       "\n",
       "    .dataframe thead th {\n",
       "        text-align: right;\n",
       "    }\n",
       "</style>\n",
       "<table border=\"1\" class=\"dataframe\">\n",
       "  <thead>\n",
       "    <tr style=\"text-align: right;\">\n",
       "      <th></th>\n",
       "      <th>Penjual</th>\n",
       "      <th>Kota Toko</th>\n",
       "      <th>Nama Produk</th>\n",
       "      <th>Harga Produk</th>\n",
       "      <th>Jumlah Terjual</th>\n",
       "      <th>Rating Produk</th>\n",
       "    </tr>\n",
       "  </thead>\n",
       "  <tbody>\n",
       "    <tr>\n",
       "      <th>0</th>\n",
       "      <td>Militan Snack</td>\n",
       "      <td>Kab. Sidoarjo</td>\n",
       "      <td>Seblak Coet Instan Seblak Coet Rafael Viral Se...</td>\n",
       "      <td>Rp13.000</td>\n",
       "      <td>Terjual 22</td>\n",
       "      <td>None</td>\n",
       "    </tr>\n",
       "    <tr>\n",
       "      <th>1</th>\n",
       "      <td>tsr1997</td>\n",
       "      <td>Depok</td>\n",
       "      <td>seblak instan</td>\n",
       "      <td>Rp4.555</td>\n",
       "      <td>Terjual 1 rb+</td>\n",
       "      <td>4.9</td>\n",
       "    </tr>\n",
       "    <tr>\n",
       "      <th>2</th>\n",
       "      <td>Rasa Juara Indonesia</td>\n",
       "      <td>Bandung</td>\n",
       "      <td>SEBLAK JUARA INSTAN MASAK BASAH ASLI BANDUNG E...</td>\n",
       "      <td>Rp22.000</td>\n",
       "      <td>Terjual 750+</td>\n",
       "      <td>4.9</td>\n",
       "    </tr>\n",
       "    <tr>\n",
       "      <th>3</th>\n",
       "      <td>Lidigeli</td>\n",
       "      <td>Kab. Garut</td>\n",
       "      <td>MASJAY Seblak Bumbu Membara Instant - No.1 Str...</td>\n",
       "      <td>Rp15.000</td>\n",
       "      <td>Terjual 70+</td>\n",
       "      <td>5.0</td>\n",
       "    </tr>\n",
       "    <tr>\n",
       "      <th>4</th>\n",
       "      <td>Semesta kerupuk</td>\n",
       "      <td>Tangerang Selatan</td>\n",
       "      <td>Kerupuk mawar putih mentah 500gram / kerupuk i...</td>\n",
       "      <td>Rp12.000</td>\n",
       "      <td>Terjual 60+</td>\n",
       "      <td>5.0</td>\n",
       "    </tr>\n",
       "    <tr>\n",
       "      <th>...</th>\n",
       "      <td>...</td>\n",
       "      <td>...</td>\n",
       "      <td>...</td>\n",
       "      <td>...</td>\n",
       "      <td>...</td>\n",
       "      <td>...</td>\n",
       "    </tr>\n",
       "    <tr>\n",
       "      <th>1051</th>\n",
       "      <td>the Dhecip</td>\n",
       "      <td>Tangerang Selatan</td>\n",
       "      <td>Seblak Instan Pedas Home Made</td>\n",
       "      <td>Rp3.500</td>\n",
       "      <td>Terjual 1 rb+</td>\n",
       "      <td>4.8</td>\n",
       "    </tr>\n",
       "    <tr>\n",
       "      <th>1052</th>\n",
       "      <td>Baso Aci Ayang</td>\n",
       "      <td>Kab. Garut</td>\n",
       "      <td>Seblak Instan Komplit Pedas Gurih Nikmat</td>\n",
       "      <td>Rp5.999</td>\n",
       "      <td>Terjual 2 rb+</td>\n",
       "      <td>4.9</td>\n",
       "    </tr>\n",
       "    <tr>\n",
       "      <th>1053</th>\n",
       "      <td>BociKakang</td>\n",
       "      <td>Jakarta Selatan</td>\n",
       "      <td>SEBLAK KERING PEDAS DAUN JERUK</td>\n",
       "      <td>Rp4.500</td>\n",
       "      <td>Terjual 500+</td>\n",
       "      <td>4.6</td>\n",
       "    </tr>\n",
       "    <tr>\n",
       "      <th>1054</th>\n",
       "      <td>Aydaa Snack</td>\n",
       "      <td>Surakarta</td>\n",
       "      <td>SEBRING KRUPUK KERUPUK SEBLAK KERING PEDAS DAU...</td>\n",
       "      <td>Rp16.000</td>\n",
       "      <td>Terjual 40+</td>\n",
       "      <td>4.9</td>\n",
       "    </tr>\n",
       "    <tr>\n",
       "      <th>1055</th>\n",
       "      <td>RIKI STORE 97</td>\n",
       "      <td>Kab. Bogor</td>\n",
       "      <td>Seblak pedas kerupuk pedas kiloan 1 kg</td>\n",
       "      <td>Rp34.000</td>\n",
       "      <td>Terjual 70+</td>\n",
       "      <td>4.8</td>\n",
       "    </tr>\n",
       "  </tbody>\n",
       "</table>\n",
       "<p>1056 rows × 6 columns</p>\n",
       "</div>"
      ],
      "text/plain": [
       "                   Penjual          Kota Toko  \\\n",
       "0            Militan Snack      Kab. Sidoarjo   \n",
       "1                  tsr1997              Depok   \n",
       "2     Rasa Juara Indonesia            Bandung   \n",
       "3                 Lidigeli         Kab. Garut   \n",
       "4          Semesta kerupuk  Tangerang Selatan   \n",
       "...                    ...                ...   \n",
       "1051            the Dhecip  Tangerang Selatan   \n",
       "1052        Baso Aci Ayang         Kab. Garut   \n",
       "1053            BociKakang    Jakarta Selatan   \n",
       "1054           Aydaa Snack          Surakarta   \n",
       "1055         RIKI STORE 97         Kab. Bogor   \n",
       "\n",
       "                                            Nama Produk Harga Produk  \\\n",
       "0     Seblak Coet Instan Seblak Coet Rafael Viral Se...     Rp13.000   \n",
       "1                                         seblak instan      Rp4.555   \n",
       "2     SEBLAK JUARA INSTAN MASAK BASAH ASLI BANDUNG E...     Rp22.000   \n",
       "3     MASJAY Seblak Bumbu Membara Instant - No.1 Str...     Rp15.000   \n",
       "4     Kerupuk mawar putih mentah 500gram / kerupuk i...     Rp12.000   \n",
       "...                                                 ...          ...   \n",
       "1051                      Seblak Instan Pedas Home Made      Rp3.500   \n",
       "1052           Seblak Instan Komplit Pedas Gurih Nikmat      Rp5.999   \n",
       "1053                     SEBLAK KERING PEDAS DAUN JERUK      Rp4.500   \n",
       "1054  SEBRING KRUPUK KERUPUK SEBLAK KERING PEDAS DAU...     Rp16.000   \n",
       "1055             Seblak pedas kerupuk pedas kiloan 1 kg     Rp34.000   \n",
       "\n",
       "     Jumlah Terjual Rating Produk  \n",
       "0        Terjual 22          None  \n",
       "1     Terjual 1 rb+           4.9  \n",
       "2      Terjual 750+           4.9  \n",
       "3       Terjual 70+           5.0  \n",
       "4       Terjual 60+           5.0  \n",
       "...             ...           ...  \n",
       "1051  Terjual 1 rb+           4.8  \n",
       "1052  Terjual 2 rb+           4.9  \n",
       "1053   Terjual 500+           4.6  \n",
       "1054    Terjual 40+           4.9  \n",
       "1055    Terjual 70+           4.8  \n",
       "\n",
       "[1056 rows x 6 columns]"
      ]
     },
     "execution_count": 33,
     "metadata": {},
     "output_type": "execute_result"
    }
   ],
   "source": [
    "data = []\n",
    "for i in range(10):\n",
    "\n",
    "    WebDriverWait(driver, 5).until(EC.presence_of_element_located((By.CSS_SELECTOR, \"#zeus-root\")))\n",
    "    time.sleep(2)\n",
    "\n",
    "    for g in range(23):\n",
    "        driver.execute_script(\"window.scrollBy(0, 250)\")\n",
    "\n",
    "    soup = BeautifulSoup(driver.page_source, \"html.parser\")\n",
    "    for item in soup.findAll('div', class_='css-974ipl'):\n",
    "        nama_produk = item.find('div', class_='css-3um8ox').text\n",
    "        harga_produk = item.find('div', class_='css-1ksb19c').text\n",
    "            \n",
    "        sold = item.findAll('span', class_='css-1duhs3e')\n",
    "        if len(sold) > 0:\n",
    "            jumlah_terjual = item.find('span', class_='css-1duhs3e').text\n",
    "        else:\n",
    "            jumlah_terjual = 'None'\n",
    "        \n",
    "        rate = item.findAll('span', class_='css-t70v7i')\n",
    "        if len(rate) > 0:\n",
    "            rating_produk = item.find('span', class_='css-t70v7i').text\n",
    "        else:\n",
    "            rating_produk = 'None'\n",
    "\n",
    "        for item2 in item.findAll('div', class_='css-1rn0irl'):\n",
    "            kota_toko = item2.findAll('span', class_='css-1kdc32b')[0].text\n",
    "            penjual = item2.findAll('span', class_='css-1kdc32b')[1].text\n",
    "\n",
    "            data.append((penjual, kota_toko, nama_produk, harga_produk, jumlah_terjual, rating_produk))\n",
    "\n",
    "    time.sleep(1)\n",
    "    driver.find_element(By.CSS_SELECTOR, \"button[aria-label^='Laman berikutnya']\").click()\n",
    "    time.sleep(2)\n",
    "\n",
    "df = pd.DataFrame(data, columns=['Penjual', 'Kota Toko', 'Nama Produk', 'Harga Produk', 'Jumlah Terjual', 'Rating Produk'])\n",
    "\n",
    "df"
   ]
  },
  {
   "cell_type": "markdown",
   "metadata": {},
   "source": [
    "To secure web scraping data, the dataframe is exported to csv:"
   ]
  },
  {
   "cell_type": "code",
   "execution_count": 52,
   "metadata": {},
   "outputs": [],
   "source": [
    "df.to_csv('seblak.csv')"
   ]
  },
  {
   "cell_type": "markdown",
   "metadata": {},
   "source": [
    "## B. Data Preparation"
   ]
  },
  {
   "cell_type": "markdown",
   "metadata": {},
   "source": [
    "### 1. Basic Data Exploration"
   ]
  },
  {
   "cell_type": "markdown",
   "metadata": {},
   "source": [
    "After completing the web scraping process, we will then explore the data obtained. This data exploration aims to get a glimpse of the contents of the data we have, check whether there are missing values, check data types, etc."
   ]
  },
  {
   "cell_type": "markdown",
   "metadata": {},
   "source": [
    "Opening previously exported CSV data:"
   ]
  },
  {
   "cell_type": "code",
   "execution_count": 4,
   "metadata": {},
   "outputs": [],
   "source": [
    "import pandas as pd"
   ]
  },
  {
   "cell_type": "code",
   "execution_count": 5,
   "metadata": {},
   "outputs": [],
   "source": [
    "seblak = pd.read_csv('seblak.csv')"
   ]
  },
  {
   "cell_type": "markdown",
   "metadata": {},
   "source": [
    "Menampilkan 10 sample data random:"
   ]
  },
  {
   "cell_type": "code",
   "execution_count": 7,
   "metadata": {},
   "outputs": [
    {
     "name": "stdout",
     "output_type": "stream",
     "text": [
      "Unnamed: 0        0\n",
      "Penjual           0\n",
      "Kota Toko         0\n",
      "Nama Produk       0\n",
      "Harga Produk      0\n",
      "Jumlah Terjual    0\n",
      "Rating Produk     0\n",
      "dtype: int64\n"
     ]
    }
   ],
   "source": [
    "print(seblak.isnull().sum())"
   ]
  },
  {
   "cell_type": "code",
   "execution_count": 17,
   "metadata": {},
   "outputs": [
    {
     "data": {
      "text/html": [
       "<div>\n",
       "<style scoped>\n",
       "    .dataframe tbody tr th:only-of-type {\n",
       "        vertical-align: middle;\n",
       "    }\n",
       "\n",
       "    .dataframe tbody tr th {\n",
       "        vertical-align: top;\n",
       "    }\n",
       "\n",
       "    .dataframe thead th {\n",
       "        text-align: right;\n",
       "    }\n",
       "</style>\n",
       "<table border=\"1\" class=\"dataframe\">\n",
       "  <thead>\n",
       "    <tr style=\"text-align: right;\">\n",
       "      <th></th>\n",
       "      <th>Penjual</th>\n",
       "      <th>Kota Toko</th>\n",
       "      <th>Nama Produk</th>\n",
       "      <th>Harga Produk</th>\n",
       "      <th>Jumlah Terjual</th>\n",
       "      <th>Rating Produk</th>\n",
       "    </tr>\n",
       "  </thead>\n",
       "  <tbody>\n",
       "    <tr>\n",
       "      <th>355</th>\n",
       "      <td>jajanan masabi</td>\n",
       "      <td>Jakarta Selatan</td>\n",
       "      <td>baso aci masabi ( boci, tulang rangu, cuanki, ...</td>\n",
       "      <td>7500.0</td>\n",
       "      <td>50.0</td>\n",
       "      <td>5.0</td>\n",
       "    </tr>\n",
       "    <tr>\n",
       "      <th>769</th>\n",
       "      <td>Snack Zone Official</td>\n",
       "      <td>Jakarta Selatan</td>\n",
       "      <td>Kerupuk Seblak Pedas Mimi</td>\n",
       "      <td>18000.0</td>\n",
       "      <td>70.0</td>\n",
       "      <td>4.9</td>\n",
       "    </tr>\n",
       "    <tr>\n",
       "      <th>302</th>\n",
       "      <td>Distributor Topping Baso Aci</td>\n",
       "      <td>Bandung</td>\n",
       "      <td>Batagor Kering Bulat 50buah</td>\n",
       "      <td>21000.0</td>\n",
       "      <td>4000.0</td>\n",
       "      <td>4.9</td>\n",
       "    </tr>\n",
       "    <tr>\n",
       "      <th>329</th>\n",
       "      <td>Aydaa Snack</td>\n",
       "      <td>Surakarta</td>\n",
       "      <td>SEBRING KRUPUK KERUPUK SEBLAK KERING PEDAS DAU...</td>\n",
       "      <td>16000.0</td>\n",
       "      <td>40.0</td>\n",
       "      <td>4.9</td>\n",
       "    </tr>\n",
       "    <tr>\n",
       "      <th>132</th>\n",
       "      <td>lahawelah</td>\n",
       "      <td>Kab. Garut</td>\n",
       "      <td>GURILEM MINI isi 250gr Siomay Kering Toping Ba...</td>\n",
       "      <td>7819.0</td>\n",
       "      <td>100.0</td>\n",
       "      <td>4.9</td>\n",
       "    </tr>\n",
       "    <tr>\n",
       "      <th>1025</th>\n",
       "      <td>LinaRahayuPutriShop</td>\n",
       "      <td>Kab. Bandung</td>\n",
       "      <td>seblak sebul</td>\n",
       "      <td>50000.0</td>\n",
       "      <td>17.0</td>\n",
       "      <td>5.0</td>\n",
       "    </tr>\n",
       "    <tr>\n",
       "      <th>930</th>\n",
       "      <td>Gerai Snack Official Shop</td>\n",
       "      <td>Kab. Tangerang</td>\n",
       "      <td>Maicih Basreng</td>\n",
       "      <td>15300.0</td>\n",
       "      <td>10000.0</td>\n",
       "      <td>4.8</td>\n",
       "    </tr>\n",
       "    <tr>\n",
       "      <th>944</th>\n",
       "      <td>Aliya28</td>\n",
       "      <td>Tangerang Selatan</td>\n",
       "      <td>Seblak/Cuanki/Baso aci/Batagor kuah (instan) 1...</td>\n",
       "      <td>7500.0</td>\n",
       "      <td>100.0</td>\n",
       "      <td>5.0</td>\n",
       "    </tr>\n",
       "    <tr>\n",
       "      <th>827</th>\n",
       "      <td>the Dhecip</td>\n",
       "      <td>Tangerang Selatan</td>\n",
       "      <td>Seblak Instan Pedas Home Made</td>\n",
       "      <td>3500.0</td>\n",
       "      <td>1000.0</td>\n",
       "      <td>4.8</td>\n",
       "    </tr>\n",
       "    <tr>\n",
       "      <th>767</th>\n",
       "      <td>5Fingers</td>\n",
       "      <td>Tangerang Selatan</td>\n",
       "      <td>Seblak Basah Mommy/Camilan/Kerupuk/Snack/Cepat...</td>\n",
       "      <td>13000.0</td>\n",
       "      <td>11.0</td>\n",
       "      <td>5.0</td>\n",
       "    </tr>\n",
       "  </tbody>\n",
       "</table>\n",
       "</div>"
      ],
      "text/plain": [
       "                           Penjual          Kota Toko  \\\n",
       "355                 jajanan masabi    Jakarta Selatan   \n",
       "769            Snack Zone Official    Jakarta Selatan   \n",
       "302   Distributor Topping Baso Aci            Bandung   \n",
       "329                    Aydaa Snack          Surakarta   \n",
       "132                      lahawelah         Kab. Garut   \n",
       "1025           LinaRahayuPutriShop       Kab. Bandung   \n",
       "930      Gerai Snack Official Shop     Kab. Tangerang   \n",
       "944                        Aliya28  Tangerang Selatan   \n",
       "827                     the Dhecip  Tangerang Selatan   \n",
       "767                       5Fingers  Tangerang Selatan   \n",
       "\n",
       "                                            Nama Produk  Harga Produk  \\\n",
       "355   baso aci masabi ( boci, tulang rangu, cuanki, ...        7500.0   \n",
       "769                           Kerupuk Seblak Pedas Mimi       18000.0   \n",
       "302                         Batagor Kering Bulat 50buah       21000.0   \n",
       "329   SEBRING KRUPUK KERUPUK SEBLAK KERING PEDAS DAU...       16000.0   \n",
       "132   GURILEM MINI isi 250gr Siomay Kering Toping Ba...        7819.0   \n",
       "1025                                       seblak sebul       50000.0   \n",
       "930                                      Maicih Basreng       15300.0   \n",
       "944   Seblak/Cuanki/Baso aci/Batagor kuah (instan) 1...        7500.0   \n",
       "827                       Seblak Instan Pedas Home Made        3500.0   \n",
       "767   Seblak Basah Mommy/Camilan/Kerupuk/Snack/Cepat...       13000.0   \n",
       "\n",
       "      Jumlah Terjual  Rating Produk  \n",
       "355             50.0            5.0  \n",
       "769             70.0            4.9  \n",
       "302           4000.0            4.9  \n",
       "329             40.0            4.9  \n",
       "132            100.0            4.9  \n",
       "1025            17.0            5.0  \n",
       "930          10000.0            4.8  \n",
       "944            100.0            5.0  \n",
       "827           1000.0            4.8  \n",
       "767             11.0            5.0  "
      ]
     },
     "execution_count": 17,
     "metadata": {},
     "output_type": "execute_result"
    }
   ],
   "source": [
    "seblak.sample(10)"
   ]
  },
  {
   "cell_type": "markdown",
   "metadata": {},
   "source": [
    "From the random data sample above, it can be said that seblak sellers vary greatly. This data indicates that the market is very competitive from many seller cities. In terms of price, starting from IDR 9,216 - IDR 89,000. From the number sold, it can be seen that this seblak product is indeed going viral, and is also accompanied by a good rating."
   ]
  },
  {
   "cell_type": "markdown",
   "metadata": {},
   "source": [
    "Displays summary data:"
   ]
  },
  {
   "cell_type": "code",
   "execution_count": 18,
   "metadata": {},
   "outputs": [
    {
     "name": "stdout",
     "output_type": "stream",
     "text": [
      "<class 'pandas.core.frame.DataFrame'>\n",
      "RangeIndex: 1056 entries, 0 to 1055\n",
      "Data columns (total 6 columns):\n",
      " #   Column          Non-Null Count  Dtype  \n",
      "---  ------          --------------  -----  \n",
      " 0   Penjual         1056 non-null   object \n",
      " 1   Kota Toko       1056 non-null   object \n",
      " 2   Nama Produk     1056 non-null   object \n",
      " 3   Harga Produk    1056 non-null   float64\n",
      " 4   Jumlah Terjual  1056 non-null   float64\n",
      " 5   Rating Produk   1056 non-null   float64\n",
      "dtypes: float64(3), object(3)\n",
      "memory usage: 49.6+ KB\n"
     ]
    }
   ],
   "source": [
    "seblak.info()"
   ]
  },
  {
   "cell_type": "markdown",
   "metadata": {},
   "source": [
    "This data contains 1056 rows of data with a total of 6 columns. For the data type of all columns in the form of objects, it will later be adjusted according to analysis needs. Because all columns have the same non-null, it means there is no missing data in these columns."
   ]
  },
  {
   "cell_type": "markdown",
   "metadata": {},
   "source": [
    "Checking for missing values:"
   ]
  },
  {
   "cell_type": "code",
   "execution_count": 19,
   "metadata": {},
   "outputs": [
    {
     "data": {
      "text/html": [
       "<div>\n",
       "<style scoped>\n",
       "    .dataframe tbody tr th:only-of-type {\n",
       "        vertical-align: middle;\n",
       "    }\n",
       "\n",
       "    .dataframe tbody tr th {\n",
       "        vertical-align: top;\n",
       "    }\n",
       "\n",
       "    .dataframe thead th {\n",
       "        text-align: right;\n",
       "    }\n",
       "</style>\n",
       "<table border=\"1\" class=\"dataframe\">\n",
       "  <thead>\n",
       "    <tr style=\"text-align: right;\">\n",
       "      <th></th>\n",
       "      <th>Penjual</th>\n",
       "      <th>Kota Toko</th>\n",
       "      <th>Nama Produk</th>\n",
       "      <th>Harga Produk</th>\n",
       "      <th>Jumlah Terjual</th>\n",
       "      <th>Rating Produk</th>\n",
       "    </tr>\n",
       "  </thead>\n",
       "  <tbody>\n",
       "    <tr>\n",
       "      <th>0</th>\n",
       "      <td>False</td>\n",
       "      <td>False</td>\n",
       "      <td>False</td>\n",
       "      <td>False</td>\n",
       "      <td>False</td>\n",
       "      <td>False</td>\n",
       "    </tr>\n",
       "    <tr>\n",
       "      <th>1</th>\n",
       "      <td>False</td>\n",
       "      <td>False</td>\n",
       "      <td>False</td>\n",
       "      <td>False</td>\n",
       "      <td>False</td>\n",
       "      <td>False</td>\n",
       "    </tr>\n",
       "    <tr>\n",
       "      <th>2</th>\n",
       "      <td>False</td>\n",
       "      <td>False</td>\n",
       "      <td>False</td>\n",
       "      <td>False</td>\n",
       "      <td>False</td>\n",
       "      <td>False</td>\n",
       "    </tr>\n",
       "    <tr>\n",
       "      <th>3</th>\n",
       "      <td>False</td>\n",
       "      <td>False</td>\n",
       "      <td>False</td>\n",
       "      <td>False</td>\n",
       "      <td>False</td>\n",
       "      <td>False</td>\n",
       "    </tr>\n",
       "    <tr>\n",
       "      <th>4</th>\n",
       "      <td>False</td>\n",
       "      <td>False</td>\n",
       "      <td>False</td>\n",
       "      <td>False</td>\n",
       "      <td>False</td>\n",
       "      <td>False</td>\n",
       "    </tr>\n",
       "    <tr>\n",
       "      <th>...</th>\n",
       "      <td>...</td>\n",
       "      <td>...</td>\n",
       "      <td>...</td>\n",
       "      <td>...</td>\n",
       "      <td>...</td>\n",
       "      <td>...</td>\n",
       "    </tr>\n",
       "    <tr>\n",
       "      <th>1051</th>\n",
       "      <td>False</td>\n",
       "      <td>False</td>\n",
       "      <td>False</td>\n",
       "      <td>False</td>\n",
       "      <td>False</td>\n",
       "      <td>False</td>\n",
       "    </tr>\n",
       "    <tr>\n",
       "      <th>1052</th>\n",
       "      <td>False</td>\n",
       "      <td>False</td>\n",
       "      <td>False</td>\n",
       "      <td>False</td>\n",
       "      <td>False</td>\n",
       "      <td>False</td>\n",
       "    </tr>\n",
       "    <tr>\n",
       "      <th>1053</th>\n",
       "      <td>False</td>\n",
       "      <td>False</td>\n",
       "      <td>False</td>\n",
       "      <td>False</td>\n",
       "      <td>False</td>\n",
       "      <td>False</td>\n",
       "    </tr>\n",
       "    <tr>\n",
       "      <th>1054</th>\n",
       "      <td>False</td>\n",
       "      <td>False</td>\n",
       "      <td>False</td>\n",
       "      <td>False</td>\n",
       "      <td>False</td>\n",
       "      <td>False</td>\n",
       "    </tr>\n",
       "    <tr>\n",
       "      <th>1055</th>\n",
       "      <td>False</td>\n",
       "      <td>False</td>\n",
       "      <td>False</td>\n",
       "      <td>False</td>\n",
       "      <td>False</td>\n",
       "      <td>False</td>\n",
       "    </tr>\n",
       "  </tbody>\n",
       "</table>\n",
       "<p>1056 rows × 6 columns</p>\n",
       "</div>"
      ],
      "text/plain": [
       "      Penjual  Kota Toko  Nama Produk  Harga Produk  Jumlah Terjual  \\\n",
       "0       False      False        False         False           False   \n",
       "1       False      False        False         False           False   \n",
       "2       False      False        False         False           False   \n",
       "3       False      False        False         False           False   \n",
       "4       False      False        False         False           False   \n",
       "...       ...        ...          ...           ...             ...   \n",
       "1051    False      False        False         False           False   \n",
       "1052    False      False        False         False           False   \n",
       "1053    False      False        False         False           False   \n",
       "1054    False      False        False         False           False   \n",
       "1055    False      False        False         False           False   \n",
       "\n",
       "      Rating Produk  \n",
       "0             False  \n",
       "1             False  \n",
       "2             False  \n",
       "3             False  \n",
       "4             False  \n",
       "...             ...  \n",
       "1051          False  \n",
       "1052          False  \n",
       "1053          False  \n",
       "1054          False  \n",
       "1055          False  \n",
       "\n",
       "[1056 rows x 6 columns]"
      ]
     },
     "execution_count": 19,
     "metadata": {},
     "output_type": "execute_result"
    }
   ],
   "source": [
    "seblak.isnull()"
   ]
  },
  {
   "cell_type": "markdown",
   "metadata": {},
   "source": [
    "From the results above, it can be confirmed that there are no missing values in this data."
   ]
  },
  {
   "cell_type": "markdown",
   "metadata": {},
   "source": [
    "### 2. Data Cleaning"
   ]
  },
  {
   "cell_type": "markdown",
   "metadata": {},
   "source": [
    "After completing a simple exploration, we will then clean the data according to future analysis needs."
   ]
  },
  {
   "cell_type": "markdown",
   "metadata": {},
   "source": [
    "Delete the column in the first index:"
   ]
  },
  {
   "cell_type": "code",
   "execution_count": 8,
   "metadata": {},
   "outputs": [],
   "source": [
    "seblak.drop(columns=seblak.columns[0], inplace=True)"
   ]
  },
  {
   "cell_type": "markdown",
   "metadata": {},
   "source": [
    "Remove/replace string values that are not required by the float dtype. Then change the dtype from string to float:"
   ]
  },
  {
   "cell_type": "code",
   "execution_count": 9,
   "metadata": {},
   "outputs": [
    {
     "name": "stderr",
     "output_type": "stream",
     "text": [
      "/var/folders/l1/bhj3xxs114z5ydg52ncndb300000gn/T/ipykernel_37739/3971132319.py:2: FutureWarning: The default value of regex will change from True to False in a future version. In addition, single character regular expressions will *not* be treated as literal strings when regex=True.\n",
      "  seblak['Jumlah Terjual']\n"
     ]
    }
   ],
   "source": [
    "seblak['Jumlah Terjual'] = (\n",
    "    seblak['Jumlah Terjual']\n",
    "    .str.replace('Terjual', '')\n",
    "    .str.replace('+', '')\n",
    "    .str.replace(' rb', '000')\n",
    "    .str.replace('None', '0')\n",
    ")\n",
    "\n",
    "seblak['Jumlah Terjual'] = seblak['Jumlah Terjual'].astype(float)"
   ]
  },
  {
   "cell_type": "markdown",
   "metadata": {},
   "source": [
    "Remove/replace string values that are not required by the float dtype. Then change the dtype from string to float."
   ]
  },
  {
   "cell_type": "code",
   "execution_count": 10,
   "metadata": {},
   "outputs": [],
   "source": [
    "seblak['Rating Produk'] = (\n",
    "    seblak['Rating Produk']\n",
    "    .str.replace('None', '0')\n",
    ")\n",
    "\n",
    "seblak['Rating Produk'] = seblak['Rating Produk'].astype(float)"
   ]
  },
  {
   "cell_type": "markdown",
   "metadata": {},
   "source": [
    "Checking data changes in the dataframe."
   ]
  },
  {
   "cell_type": "code",
   "execution_count": 20,
   "metadata": {},
   "outputs": [
    {
     "data": {
      "text/html": [
       "<div>\n",
       "<style scoped>\n",
       "    .dataframe tbody tr th:only-of-type {\n",
       "        vertical-align: middle;\n",
       "    }\n",
       "\n",
       "    .dataframe tbody tr th {\n",
       "        vertical-align: top;\n",
       "    }\n",
       "\n",
       "    .dataframe thead th {\n",
       "        text-align: right;\n",
       "    }\n",
       "</style>\n",
       "<table border=\"1\" class=\"dataframe\">\n",
       "  <thead>\n",
       "    <tr style=\"text-align: right;\">\n",
       "      <th></th>\n",
       "      <th>Penjual</th>\n",
       "      <th>Kota Toko</th>\n",
       "      <th>Nama Produk</th>\n",
       "      <th>Harga Produk</th>\n",
       "      <th>Jumlah Terjual</th>\n",
       "      <th>Rating Produk</th>\n",
       "    </tr>\n",
       "  </thead>\n",
       "  <tbody>\n",
       "    <tr>\n",
       "      <th>0</th>\n",
       "      <td>Militan Snack</td>\n",
       "      <td>Kab. Sidoarjo</td>\n",
       "      <td>Seblak Coet Instan Seblak Coet Rafael Viral Se...</td>\n",
       "      <td>13000.0</td>\n",
       "      <td>22.0</td>\n",
       "      <td>0.0</td>\n",
       "    </tr>\n",
       "    <tr>\n",
       "      <th>1</th>\n",
       "      <td>tsr1997</td>\n",
       "      <td>Depok</td>\n",
       "      <td>seblak instan</td>\n",
       "      <td>4555.0</td>\n",
       "      <td>1000.0</td>\n",
       "      <td>4.9</td>\n",
       "    </tr>\n",
       "    <tr>\n",
       "      <th>2</th>\n",
       "      <td>Rasa Juara Indonesia</td>\n",
       "      <td>Bandung</td>\n",
       "      <td>SEBLAK JUARA INSTAN MASAK BASAH ASLI BANDUNG E...</td>\n",
       "      <td>22000.0</td>\n",
       "      <td>750.0</td>\n",
       "      <td>4.9</td>\n",
       "    </tr>\n",
       "    <tr>\n",
       "      <th>3</th>\n",
       "      <td>Lidigeli</td>\n",
       "      <td>Kab. Garut</td>\n",
       "      <td>MASJAY Seblak Bumbu Membara Instant - No.1 Str...</td>\n",
       "      <td>15000.0</td>\n",
       "      <td>70.0</td>\n",
       "      <td>5.0</td>\n",
       "    </tr>\n",
       "    <tr>\n",
       "      <th>4</th>\n",
       "      <td>Semesta kerupuk</td>\n",
       "      <td>Tangerang Selatan</td>\n",
       "      <td>Kerupuk mawar putih mentah 500gram / kerupuk i...</td>\n",
       "      <td>12000.0</td>\n",
       "      <td>60.0</td>\n",
       "      <td>5.0</td>\n",
       "    </tr>\n",
       "    <tr>\n",
       "      <th>...</th>\n",
       "      <td>...</td>\n",
       "      <td>...</td>\n",
       "      <td>...</td>\n",
       "      <td>...</td>\n",
       "      <td>...</td>\n",
       "      <td>...</td>\n",
       "    </tr>\n",
       "    <tr>\n",
       "      <th>1051</th>\n",
       "      <td>the Dhecip</td>\n",
       "      <td>Tangerang Selatan</td>\n",
       "      <td>Seblak Instan Pedas Home Made</td>\n",
       "      <td>3500.0</td>\n",
       "      <td>1000.0</td>\n",
       "      <td>4.8</td>\n",
       "    </tr>\n",
       "    <tr>\n",
       "      <th>1052</th>\n",
       "      <td>Baso Aci Ayang</td>\n",
       "      <td>Kab. Garut</td>\n",
       "      <td>Seblak Instan Komplit Pedas Gurih Nikmat</td>\n",
       "      <td>5999.0</td>\n",
       "      <td>2000.0</td>\n",
       "      <td>4.9</td>\n",
       "    </tr>\n",
       "    <tr>\n",
       "      <th>1053</th>\n",
       "      <td>BociKakang</td>\n",
       "      <td>Jakarta Selatan</td>\n",
       "      <td>SEBLAK KERING PEDAS DAUN JERUK</td>\n",
       "      <td>4500.0</td>\n",
       "      <td>500.0</td>\n",
       "      <td>4.6</td>\n",
       "    </tr>\n",
       "    <tr>\n",
       "      <th>1054</th>\n",
       "      <td>Aydaa Snack</td>\n",
       "      <td>Surakarta</td>\n",
       "      <td>SEBRING KRUPUK KERUPUK SEBLAK KERING PEDAS DAU...</td>\n",
       "      <td>16000.0</td>\n",
       "      <td>40.0</td>\n",
       "      <td>4.9</td>\n",
       "    </tr>\n",
       "    <tr>\n",
       "      <th>1055</th>\n",
       "      <td>RIKI STORE 97</td>\n",
       "      <td>Kab. Bogor</td>\n",
       "      <td>Seblak pedas kerupuk pedas kiloan 1 kg</td>\n",
       "      <td>34000.0</td>\n",
       "      <td>70.0</td>\n",
       "      <td>4.8</td>\n",
       "    </tr>\n",
       "  </tbody>\n",
       "</table>\n",
       "<p>1056 rows × 6 columns</p>\n",
       "</div>"
      ],
      "text/plain": [
       "                   Penjual          Kota Toko  \\\n",
       "0            Militan Snack      Kab. Sidoarjo   \n",
       "1                  tsr1997              Depok   \n",
       "2     Rasa Juara Indonesia            Bandung   \n",
       "3                 Lidigeli         Kab. Garut   \n",
       "4          Semesta kerupuk  Tangerang Selatan   \n",
       "...                    ...                ...   \n",
       "1051            the Dhecip  Tangerang Selatan   \n",
       "1052        Baso Aci Ayang         Kab. Garut   \n",
       "1053            BociKakang    Jakarta Selatan   \n",
       "1054           Aydaa Snack          Surakarta   \n",
       "1055         RIKI STORE 97         Kab. Bogor   \n",
       "\n",
       "                                            Nama Produk  Harga Produk  \\\n",
       "0     Seblak Coet Instan Seblak Coet Rafael Viral Se...       13000.0   \n",
       "1                                         seblak instan        4555.0   \n",
       "2     SEBLAK JUARA INSTAN MASAK BASAH ASLI BANDUNG E...       22000.0   \n",
       "3     MASJAY Seblak Bumbu Membara Instant - No.1 Str...       15000.0   \n",
       "4     Kerupuk mawar putih mentah 500gram / kerupuk i...       12000.0   \n",
       "...                                                 ...           ...   \n",
       "1051                      Seblak Instan Pedas Home Made        3500.0   \n",
       "1052           Seblak Instan Komplit Pedas Gurih Nikmat        5999.0   \n",
       "1053                     SEBLAK KERING PEDAS DAUN JERUK        4500.0   \n",
       "1054  SEBRING KRUPUK KERUPUK SEBLAK KERING PEDAS DAU...       16000.0   \n",
       "1055             Seblak pedas kerupuk pedas kiloan 1 kg       34000.0   \n",
       "\n",
       "      Jumlah Terjual  Rating Produk  \n",
       "0               22.0            0.0  \n",
       "1             1000.0            4.9  \n",
       "2              750.0            4.9  \n",
       "3               70.0            5.0  \n",
       "4               60.0            5.0  \n",
       "...              ...            ...  \n",
       "1051          1000.0            4.8  \n",
       "1052          2000.0            4.9  \n",
       "1053           500.0            4.6  \n",
       "1054            40.0            4.9  \n",
       "1055            70.0            4.8  \n",
       "\n",
       "[1056 rows x 6 columns]"
      ]
     },
     "execution_count": 20,
     "metadata": {},
     "output_type": "execute_result"
    }
   ],
   "source": [
    "seblak"
   ]
  },
  {
   "cell_type": "markdown",
   "metadata": {},
   "source": [
    "Checks dtype changes."
   ]
  },
  {
   "cell_type": "code",
   "execution_count": 21,
   "metadata": {},
   "outputs": [
    {
     "name": "stdout",
     "output_type": "stream",
     "text": [
      "<class 'pandas.core.frame.DataFrame'>\n",
      "RangeIndex: 1056 entries, 0 to 1055\n",
      "Data columns (total 6 columns):\n",
      " #   Column          Non-Null Count  Dtype  \n",
      "---  ------          --------------  -----  \n",
      " 0   Penjual         1056 non-null   object \n",
      " 1   Kota Toko       1056 non-null   object \n",
      " 2   Nama Produk     1056 non-null   object \n",
      " 3   Harga Produk    1056 non-null   float64\n",
      " 4   Jumlah Terjual  1056 non-null   float64\n",
      " 5   Rating Produk   1056 non-null   float64\n",
      "dtypes: float64(3), object(3)\n",
      "memory usage: 49.6+ KB\n"
     ]
    }
   ],
   "source": [
    "seblak.info()"
   ]
  },
  {
   "cell_type": "markdown",
   "metadata": {},
   "source": [
    "Exporting the cleaned dataframe to CSV."
   ]
  },
  {
   "cell_type": "code",
   "execution_count": 31,
   "metadata": {},
   "outputs": [],
   "source": [
    "seblak.to_csv('seblakclean.csv', index = False)"
   ]
  },
  {
   "cell_type": "markdown",
   "metadata": {},
   "source": [
    "## C. Business Understanding/Problem Statement"
   ]
  },
  {
   "cell_type": "markdown",
   "metadata": {},
   "source": [
    "**Specific:**\n",
    "- *Find out whether selling seblak products on Tokopedia is a good business prospect.*\n",
    "\n",
    "**Measurable:**\n",
    "- *Sales consistency among the many sellers of seblak products on Tokopedia.*\n",
    "\n",
    "**Achievable:**\n",
    "- *By carrying out several calculation techniques and hypotheses from the variables of quantity sold, product price, and product rating.*\n",
    "\n",
    "**Relevant:**\n",
    "- *By finding out the consistency of sales of seblak products on Tokopedia, later we can decide whether this is a good business prospect.*\n",
    "\n",
    "**Time-Bound:**\n",
    "- *This goal must be achieved within 4 days.*\n",
    "\n",
    "***Seeing the consistency of seblak sales on Tokopedia by carrying out several calculation techniques and hypotheses within these 4 days can determine whether selling seblak in the future is a good business prospect or not.***"
   ]
  },
  {
   "cell_type": "markdown",
   "metadata": {},
   "source": [
    "## D. Analysis"
   ]
  },
  {
   "cell_type": "markdown",
   "metadata": {},
   "source": [
    "Reads CSV files from previously cleaned data and defines them into sc dataframes."
   ]
  },
  {
   "cell_type": "code",
   "execution_count": 54,
   "metadata": {},
   "outputs": [],
   "source": [
    "sc = pd.read_csv('seblakclean.csv')"
   ]
  },
  {
   "cell_type": "markdown",
   "metadata": {},
   "source": [
    "Checking the dataframe whether it is correct."
   ]
  },
  {
   "cell_type": "code",
   "execution_count": 55,
   "metadata": {},
   "outputs": [
    {
     "data": {
      "text/html": [
       "<div>\n",
       "<style scoped>\n",
       "    .dataframe tbody tr th:only-of-type {\n",
       "        vertical-align: middle;\n",
       "    }\n",
       "\n",
       "    .dataframe tbody tr th {\n",
       "        vertical-align: top;\n",
       "    }\n",
       "\n",
       "    .dataframe thead th {\n",
       "        text-align: right;\n",
       "    }\n",
       "</style>\n",
       "<table border=\"1\" class=\"dataframe\">\n",
       "  <thead>\n",
       "    <tr style=\"text-align: right;\">\n",
       "      <th></th>\n",
       "      <th>Penjual</th>\n",
       "      <th>Kota Toko</th>\n",
       "      <th>Nama Produk</th>\n",
       "      <th>Harga Produk</th>\n",
       "      <th>Jumlah Terjual</th>\n",
       "      <th>Rating Produk</th>\n",
       "    </tr>\n",
       "  </thead>\n",
       "  <tbody>\n",
       "    <tr>\n",
       "      <th>0</th>\n",
       "      <td>Militan Snack</td>\n",
       "      <td>Kab. Sidoarjo</td>\n",
       "      <td>Seblak Coet Instan Seblak Coet Rafael Viral Se...</td>\n",
       "      <td>13000.0</td>\n",
       "      <td>22.0</td>\n",
       "      <td>0.0</td>\n",
       "    </tr>\n",
       "    <tr>\n",
       "      <th>1</th>\n",
       "      <td>tsr1997</td>\n",
       "      <td>Depok</td>\n",
       "      <td>seblak instan</td>\n",
       "      <td>4555.0</td>\n",
       "      <td>1000.0</td>\n",
       "      <td>4.9</td>\n",
       "    </tr>\n",
       "    <tr>\n",
       "      <th>2</th>\n",
       "      <td>Rasa Juara Indonesia</td>\n",
       "      <td>Bandung</td>\n",
       "      <td>SEBLAK JUARA INSTAN MASAK BASAH ASLI BANDUNG E...</td>\n",
       "      <td>22000.0</td>\n",
       "      <td>750.0</td>\n",
       "      <td>4.9</td>\n",
       "    </tr>\n",
       "    <tr>\n",
       "      <th>3</th>\n",
       "      <td>Lidigeli</td>\n",
       "      <td>Kab. Garut</td>\n",
       "      <td>MASJAY Seblak Bumbu Membara Instant - No.1 Str...</td>\n",
       "      <td>15000.0</td>\n",
       "      <td>70.0</td>\n",
       "      <td>5.0</td>\n",
       "    </tr>\n",
       "    <tr>\n",
       "      <th>4</th>\n",
       "      <td>Semesta kerupuk</td>\n",
       "      <td>Tangerang Selatan</td>\n",
       "      <td>Kerupuk mawar putih mentah 500gram / kerupuk i...</td>\n",
       "      <td>12000.0</td>\n",
       "      <td>60.0</td>\n",
       "      <td>5.0</td>\n",
       "    </tr>\n",
       "    <tr>\n",
       "      <th>...</th>\n",
       "      <td>...</td>\n",
       "      <td>...</td>\n",
       "      <td>...</td>\n",
       "      <td>...</td>\n",
       "      <td>...</td>\n",
       "      <td>...</td>\n",
       "    </tr>\n",
       "    <tr>\n",
       "      <th>1051</th>\n",
       "      <td>the Dhecip</td>\n",
       "      <td>Tangerang Selatan</td>\n",
       "      <td>Seblak Instan Pedas Home Made</td>\n",
       "      <td>3500.0</td>\n",
       "      <td>1000.0</td>\n",
       "      <td>4.8</td>\n",
       "    </tr>\n",
       "    <tr>\n",
       "      <th>1052</th>\n",
       "      <td>Baso Aci Ayang</td>\n",
       "      <td>Kab. Garut</td>\n",
       "      <td>Seblak Instan Komplit Pedas Gurih Nikmat</td>\n",
       "      <td>5999.0</td>\n",
       "      <td>2000.0</td>\n",
       "      <td>4.9</td>\n",
       "    </tr>\n",
       "    <tr>\n",
       "      <th>1053</th>\n",
       "      <td>BociKakang</td>\n",
       "      <td>Jakarta Selatan</td>\n",
       "      <td>SEBLAK KERING PEDAS DAUN JERUK</td>\n",
       "      <td>4500.0</td>\n",
       "      <td>500.0</td>\n",
       "      <td>4.6</td>\n",
       "    </tr>\n",
       "    <tr>\n",
       "      <th>1054</th>\n",
       "      <td>Aydaa Snack</td>\n",
       "      <td>Surakarta</td>\n",
       "      <td>SEBRING KRUPUK KERUPUK SEBLAK KERING PEDAS DAU...</td>\n",
       "      <td>16000.0</td>\n",
       "      <td>40.0</td>\n",
       "      <td>4.9</td>\n",
       "    </tr>\n",
       "    <tr>\n",
       "      <th>1055</th>\n",
       "      <td>RIKI STORE 97</td>\n",
       "      <td>Kab. Bogor</td>\n",
       "      <td>Seblak pedas kerupuk pedas kiloan 1 kg</td>\n",
       "      <td>34000.0</td>\n",
       "      <td>70.0</td>\n",
       "      <td>4.8</td>\n",
       "    </tr>\n",
       "  </tbody>\n",
       "</table>\n",
       "<p>1056 rows × 6 columns</p>\n",
       "</div>"
      ],
      "text/plain": [
       "                   Penjual          Kota Toko  \\\n",
       "0            Militan Snack      Kab. Sidoarjo   \n",
       "1                  tsr1997              Depok   \n",
       "2     Rasa Juara Indonesia            Bandung   \n",
       "3                 Lidigeli         Kab. Garut   \n",
       "4          Semesta kerupuk  Tangerang Selatan   \n",
       "...                    ...                ...   \n",
       "1051            the Dhecip  Tangerang Selatan   \n",
       "1052        Baso Aci Ayang         Kab. Garut   \n",
       "1053            BociKakang    Jakarta Selatan   \n",
       "1054           Aydaa Snack          Surakarta   \n",
       "1055         RIKI STORE 97         Kab. Bogor   \n",
       "\n",
       "                                            Nama Produk  Harga Produk  \\\n",
       "0     Seblak Coet Instan Seblak Coet Rafael Viral Se...       13000.0   \n",
       "1                                         seblak instan        4555.0   \n",
       "2     SEBLAK JUARA INSTAN MASAK BASAH ASLI BANDUNG E...       22000.0   \n",
       "3     MASJAY Seblak Bumbu Membara Instant - No.1 Str...       15000.0   \n",
       "4     Kerupuk mawar putih mentah 500gram / kerupuk i...       12000.0   \n",
       "...                                                 ...           ...   \n",
       "1051                      Seblak Instan Pedas Home Made        3500.0   \n",
       "1052           Seblak Instan Komplit Pedas Gurih Nikmat        5999.0   \n",
       "1053                     SEBLAK KERING PEDAS DAUN JERUK        4500.0   \n",
       "1054  SEBRING KRUPUK KERUPUK SEBLAK KERING PEDAS DAU...       16000.0   \n",
       "1055             Seblak pedas kerupuk pedas kiloan 1 kg       34000.0   \n",
       "\n",
       "      Jumlah Terjual  Rating Produk  \n",
       "0               22.0            0.0  \n",
       "1             1000.0            4.9  \n",
       "2              750.0            4.9  \n",
       "3               70.0            5.0  \n",
       "4               60.0            5.0  \n",
       "...              ...            ...  \n",
       "1051          1000.0            4.8  \n",
       "1052          2000.0            4.9  \n",
       "1053           500.0            4.6  \n",
       "1054            40.0            4.9  \n",
       "1055            70.0            4.8  \n",
       "\n",
       "[1056 rows x 6 columns]"
      ]
     },
     "execution_count": 55,
     "metadata": {},
     "output_type": "execute_result"
    }
   ],
   "source": [
    "sc"
   ]
  },
  {
   "cell_type": "markdown",
   "metadata": {},
   "source": [
    "Import the libraries needed to carry out the analysis."
   ]
  },
  {
   "cell_type": "code",
   "execution_count": 56,
   "metadata": {},
   "outputs": [],
   "source": [
    "import pandas as pd\n",
    "from scipy import stats\n",
    "import matplotlib.pyplot as plt\n",
    "import seaborn as sns"
   ]
  },
  {
   "cell_type": "markdown",
   "metadata": {},
   "source": [
    "### 1. Calculate the mean, median, standard deviation, skewness, and kurtosis values."
   ]
  },
  {
   "cell_type": "markdown",
   "metadata": {},
   "source": [
    "To achieve the desired goal, we must first calculate the average, median, standard deviation, skewness and kurtosis values from the data we have, so we can find out the type of distribution and outliers in our data."
   ]
  },
  {
   "cell_type": "code",
   "execution_count": 40,
   "metadata": {},
   "outputs": [
    {
     "name": "stdout",
     "output_type": "stream",
     "text": [
      "\n",
      "Mean:\n",
      " Harga Produk      18524.874053\n",
      "Jumlah Terjual      531.629735\n",
      "Rating Produk         4.519034\n",
      "dtype: float64\n",
      "\n",
      "Median:\n",
      " Harga Produk      12500.0\n",
      "Jumlah Terjual       80.0\n",
      "Rating Produk         4.9\n",
      "dtype: float64\n",
      "\n",
      "Standard Deviation:\n",
      " Harga Produk      20510.598187\n",
      "Jumlah Terjual     1590.019960\n",
      "Rating Produk         1.270656\n",
      "dtype: float64\n",
      "\n",
      "Skewness:\n",
      " Harga Produk      3.461668\n",
      "Jumlah Terjual    5.015376\n",
      "Rating Produk    -3.217709\n",
      "dtype: float64\n",
      "\n",
      "Kurtosis:\n",
      " Harga Produk      16.179916\n",
      "Jumlah Terjual    25.948107\n",
      "Rating Produk      8.548640\n",
      "dtype: float64\n"
     ]
    }
   ],
   "source": [
    "#calculate some descriptive statistics from the three variables in the dataset.\n",
    "\n",
    "mean = sc[[\"Harga Produk\", \"Jumlah Terjual\", \"Rating Produk\"]].mean()\n",
    "median = sc[[\"Harga Produk\", \"Jumlah Terjual\", \"Rating Produk\"]].median()\n",
    "std_dev = sc[[\"Harga Produk\", \"Jumlah Terjual\", \"Rating Produk\"]].std()\n",
    "skewness = sc[[\"Harga Produk\", \"Jumlah Terjual\", \"Rating Produk\"]].apply(skew)\n",
    "kurt = sc[[\"Harga Produk\", \"Jumlah Terjual\", \"Rating Produk\"]].apply(kurtosis)\n",
    "\n",
    "print(\"\\nMean:\\n\", mean)\n",
    "print(\"\\nMedian:\\n\", median)\n",
    "print(\"\\nStandard Deviation:\\n\", std_dev)\n",
    "print(\"\\nSkewness:\\n\", skewness)\n",
    "print(\"\\nKurtosis:\\n\", kurt)"
   ]
  },
  {
   "cell_type": "markdown",
   "metadata": {},
   "source": [
    "From the results of the calculations above, we can conclude:\n",
    "\n",
    "**Average value:**\n",
    "- ***Product Price:*** *The average price of seblak products on Tokopedia still tends to be cheaper than other similar snacks/food products.*\n",
    "\n",
    "- ***Number Sold:*** *The average number of each seblak product sold on Tokopedia is very high, perhaps affected by virality.*\n",
    "\n",
    "- ***Product Rating:*** *The average rating of the seblak products sold is also very good at 4.5, which indicates that buyers of the seblak products are very happy with the seblak products.*\n",
    "\n",
    "**Median Value:**\n",
    "- ***Product Price:*** *From the results of this median calculation, we get the median value for the price of seblak products sold on Tokopedia is IDR 12,500, which means this is the middle price which can be used as a reference if we want to sell similar products later.*\n",
    "\n",
    "- ***Number Sold:*** *From the results of this median calculation, we can better understand the average sales performance which is more consistent because it is not affected by the extreme value of 80pcs per product, which is still quite good.*\n",
    "\n",
    "- ***Product Rating:*** *From the results of this median calculation, we can be more certain that half of the data buyers of seblak products on Tokopedia are very happy with their product with a rating of 4.9 which almost touches the highest rating of 5.0. and the other half gave a rating below 4.9.*\n",
    "\n",
    "**Standard Deviation Value:**\n",
    "- ***Product Price:*** *From the calculation results above, it shows a very large standard deviation value, it can be ascertained that the price of seblak products sold on Tokopedia from each seller varies greatly.*\n",
    "\n",
    "- ***Number Sold:*** *From the calculation results above, the standard deviation value is quite large, this shows that the sales performance of seblak products from each seller on Tokopedia is also quite varied, some are not good, some are quite good, and very good.*\n",
    "\n",
    "- ***Product Rating:*** *The calculation results above show a low standard deviation value, this indicates that the rating of seblak products sold on Tokopedia is more or less uniform.*\n",
    "\n",
    "**Skewness Value:**\n",
    "- ***Product Price:*** *From the calculation results above, the skewness value is positive and shows that the data distribution is skewed to the right, this means that there are several seblak products with prices higher than the average, which results in long outliers to the right of the distribution.*\n",
    "\n",
    "- ***Number Sold:*** *From the calculation results above, it shows a positive skewness value and shows that the data distribution is also skewed to the right with outliers, this means that the majority of seblak products sold on Tokopedia have a low number sold, while there are several products that have a very high number of sales.*\n",
    "\n",
    "- ***Product Rating:*** *The calculation results above show a negative skewness value, this means that the data distribution is skewed to the left, and shows that most products have a high rating, and there are a few products that have a low rating .*\n",
    "\n",
    "**Kurtosis Value:**\n",
    "- ***Product Price:*** *The calculation results above show that the kurtosis value is greater than 3, this indicates that there may be significant outliers in the tail of the product price distribution.*\n",
    "\n",
    "- ***Number Sold:*** *The calculation results above also show that the kurtosis value is greater than 3, this also indicates that there may be significant outliers in the tail of the distribution of the number of products sold.*\n",
    "\n",
    "- ***Product Rating:*** *The calculation results above show a kurtosis value greater than 3, this also indicates that there is a possibility of concentration of product ratings around a certain value with thicker tails.*\n",
    "\n",
    "In short, the data we have has a type of distribution that is not normal (not symmetrical) because the skewness value is very significant and the kurtosis value is greater than 3. And this data tends to have outliers."
   ]
  },
  {
   "cell_type": "markdown",
   "metadata": {},
   "source": [
    "### 2. Confidence Interval/Level"
   ]
  },
  {
   "cell_type": "markdown",
   "metadata": {},
   "source": [
    "Here we will wonder what the minimum and maximum potential income and quantity sold would be if we wanted to sell seblak products on Tokopedia. In this step we will calculate the lower and upper confidence interval values."
   ]
  },
  {
   "cell_type": "code",
   "execution_count": 64,
   "metadata": {},
   "outputs": [
    {
     "name": "stdout",
     "output_type": "stream",
     "text": [
      "Confidence Interval untuk Harga Produk: [17287.80, sampai: 19761.94]\n",
      "Confidence Interval untuk Jumlah Terjual per bulannya: [435.73, sampai: 627.53]\n"
     ]
    }
   ],
   "source": [
    "#define several variables from the results of previous calculations.\n",
    "\n",
    "mean_harga_produk = 18524.874053\n",
    "std_harga_produk = 20510.598187\n",
    "mean_jumlah_terjual = 531.629735\n",
    "std_jumlah_terjual = 1590.019960\n",
    "confidence_level = 0.95\n",
    "\n",
    "#calculate confidence intervals using the normal distribution approach (z-score).\n",
    "\n",
    "z_score = stats.norm.ppf(1 - (1 - confidence_level) / 2)\n",
    "\n",
    "harga_produk_lower = mean_harga_produk - z_score * (std_harga_produk / (len(sc) ** 0.5))\n",
    "harga_produk_upper = mean_harga_produk + z_score * (std_harga_produk / (len(sc) ** 0.5))\n",
    "\n",
    "jumlah_terjual_lower = mean_jumlah_terjual - z_score * (std_jumlah_terjual / (len(sc) ** 0.5))\n",
    "jumlah_terjual_upper = mean_jumlah_terjual + z_score * (std_jumlah_terjual / (len(sc) ** 0.5))\n",
    "\n",
    "print(f\"Confidence Interval untuk Harga Produk: [{harga_produk_lower:.2f}, sampai: {harga_produk_upper:.2f}]\")\n",
    "print(f\"Confidence Interval untuk Jumlah Terjual per bulannya: [{jumlah_terjual_lower:.2f}, sampai: {jumlah_terjual_upper:.2f}]\")\n"
   ]
  },
  {
   "cell_type": "markdown",
   "metadata": {},
   "source": [
    "From the results above, we can calculate the approximate income that can be generated by selling seblak products on Tokopedia, starting from IDR 17,287 to IDR 19,761 per product.\n",
    "\n",
    "And we can also estimate that the seblak products sold range from 435 pcs to 627 pcs per month.\n",
    "\n",
    "Please remember, here we are using a confidence level of 95% and assuming that our data distribution is normal."
   ]
  },
  {
   "cell_type": "markdown",
   "metadata": {},
   "source": [
    "### 3. Is there a difference in the price of seblak products in Jabodetabek and outside Jabodetabek?"
   ]
  },
  {
   "cell_type": "markdown",
   "metadata": {},
   "source": [
    "At this analysis stage, we will carry out Hypothesis Testing to answer the questions above.\n",
    "\n",
    "Previously we had to determine H0 and H1 first:\n",
    "- H0: There is no significant difference between the price of seblak products in the Jabodetabek area and areas outside Jabodetabek.\n",
    "- H1: There is a significant difference between the prices of goods in the Jabodetabek area and areas outside Jabodetabek due to differences in raw material costs in the two locations."
   ]
  },
  {
   "cell_type": "markdown",
   "metadata": {},
   "source": [
    "Summoning a list of unique City Shops."
   ]
  },
  {
   "cell_type": "code",
   "execution_count": 69,
   "metadata": {},
   "outputs": [
    {
     "data": {
      "text/plain": [
       "array(['Kab. Sidoarjo', 'Depok', 'Bandung', 'Kab. Garut',\n",
       "       'Tangerang Selatan', 'Jakarta Barat', 'Jakarta Pusat',\n",
       "       'Jakarta Selatan', 'Surabaya', 'Kab. Bandung', 'Kab. Tangerang',\n",
       "       'Kab. Sumedang', 'Jakarta Timur', 'Kab. Bogor', 'Jakarta Utara',\n",
       "       'Bekasi', 'Surakarta', 'Tangerang', 'Kab. Bekasi',\n",
       "       'Kab. Bandung Barat', 'Cimahi', 'Medan', 'Palembang',\n",
       "       'Kab. Bantul', 'Kab. Tasikmalaya', 'Semarang', 'Tasikmalaya',\n",
       "       'Pasuruan', 'Sukabumi', 'Kab.Ciamis', 'Kab. Purwakarta', 'Batam',\n",
       "       'Malang', 'Kab. Jember', 'Kab. Sleman', 'Bogor', 'Kab. Brebes',\n",
       "       'Kab. Karawang', 'Kab. Sukabumi', 'Denpasar', 'Kab. Majalengka',\n",
       "       'Kab. Banyuwangi', 'Kab. Mojokerto', 'Banjar', 'Kab. Subang',\n",
       "       'Kab. Malang', 'Kab. Indramayu', 'Banjarbaru', 'Cirebon'],\n",
       "      dtype=object)"
      ]
     },
     "execution_count": 69,
     "metadata": {},
     "output_type": "execute_result"
    }
   ],
   "source": [
    "sc[\"Kota Toko\"].unique()"
   ]
  },
  {
   "cell_type": "markdown",
   "metadata": {},
   "source": [
    "Perform filtering between cities that are included in Jabodetabek and outside Jabodetabek."
   ]
  },
  {
   "cell_type": "code",
   "execution_count": 77,
   "metadata": {},
   "outputs": [],
   "source": [
    "kota_jabodetabek = [\"Depok\", \"Tangerang Selatan\", \"Jakarta Barat\", \n",
    "\"Jakarta Pusat\", \"Jakarta Selatan\", \"Kab. Tangerang\", \"Jakarta Timur\", \"Kab. Bogor\", \n",
    "\"Jakarta Utara\", \"Bekasi\", \"Tangerang\", \"Kab. Bekasi\", \"Bogor\"]\n",
    "jabodetabek = sc[sc['Kota Toko'].str.contains('|'.join(kota_jabodetabek))]\n",
    "luar_jabodetabek = sc[~sc['Kota Toko'].str.contains('|'.join(kota_jabodetabek))]\n"
   ]
  },
  {
   "cell_type": "markdown",
   "metadata": {},
   "source": [
    "Here we will use the T-test to test 2 numerical variables."
   ]
  },
  {
   "cell_type": "code",
   "execution_count": 84,
   "metadata": {},
   "outputs": [
    {
     "name": "stdout",
     "output_type": "stream",
     "text": [
      "Nilai t-statistik: 0.03492829510350853\n",
      "Nilai p-value: 0.9721435316209831\n",
      "Tidak cukup bukti untuk menolak hipotesis null.\n",
      "Tidak ada bukti signifikan dalam perbedaan harga produk antara Jabodetabek dan luar Jabodetabek.\n"
     ]
    }
   ],
   "source": [
    "#conduct an independent t-test between product prices in the Jabodetabek area and outside the area.\n",
    "\n",
    "harga_jabodetabek = []\n",
    "harga_luar_jabodetabek = []\n",
    "\n",
    "for index, row in sc.iterrows():\n",
    "    kota = row[\"Kota Toko\"]\n",
    "    harga = row[\"Harga Produk\"]\n",
    "    \n",
    "    if kota in kota_jabodetabek:\n",
    "        harga_jabodetabek.append(harga)\n",
    "    else:\n",
    "        harga_luar_jabodetabek.append(harga)\n",
    "\n",
    "t_statistic, p_value = stats.ttest_ind(harga_jabodetabek, harga_luar_jabodetabek)\n",
    "\n",
    "alpha = 0.05\n",
    "\n",
    "print(\"Nilai t-statistik:\", t_statistic)\n",
    "print(\"Nilai p-value:\", p_value)\n",
    "\n",
    "if p_value < alpha:\n",
    "    print(\"Kita dapat menolak hipotesis null.\")\n",
    "    print(\"Terdapat perbedaan signifikan dalam harga barang antara Jabodetabek dan luar Jabodetabek.\")\n",
    "else:\n",
    "    print(\"Tidak cukup bukti untuk menolak hipotesis null.\")\n",
    "    print(\"Tidak ada bukti signifikan dalam perbedaan harga produk antara Jabodetabek dan luar Jabodetabek.\")"
   ]
  },
  {
   "cell_type": "markdown",
   "metadata": {},
   "source": [
    "From the Hypothesis Testing results above, it can be concluded that there is no significant price difference between the prices of seblak products in Jabodetabek and outside Jabodetabek."
   ]
  },
  {
   "cell_type": "markdown",
   "metadata": {},
   "source": [
    "### 4. Is it true that people prefer products that are cheaper?"
   ]
  },
  {
   "cell_type": "markdown",
   "metadata": {},
   "source": [
    "To be able to answer this question, we need to do a correlation test."
   ]
  },
  {
   "cell_type": "code",
   "execution_count": 89,
   "metadata": {},
   "outputs": [
    {
     "name": "stdout",
     "output_type": "stream",
     "text": [
      "-0.050982572471280276\n",
      "0.0977517492193262\n",
      "Tidak dapat menyimpulkan adanya korelasi antara harga produk dan rating produk.\n"
     ]
    }
   ],
   "source": [
    "#conduct a statistical test to see whether there is a relationship between the product price and the product rating in the dataframe.\n",
    "\n",
    "corr_r, pval_p = stats.pearsonr(sc['Harga Produk'], sc['Rating Produk'])\n",
    "\n",
    "print(corr_r)\n",
    "print(pval_p)\n",
    "\n",
    "if pval_p < 0.05:\n",
    "    if corr_r > 0:\n",
    "        print(\"Terdapat korelasi positif antara harga produk dan rating produk.\")\n",
    "    elif corr_r < 0:\n",
    "        print(\"Terdapat korelasi negatif antara harga produk dan rating produk.\")\n",
    "    else:\n",
    "        print(\"Tidak terdapat korelasi antara harga produk dan rating produk.\")\n",
    "else:\n",
    "    print(\"Tidak dapat menyimpulkan adanya korelasi antara harga produk dan rating produk.\")"
   ]
  },
  {
   "cell_type": "markdown",
   "metadata": {},
   "source": [
    "From the results of the correlation test and p-value using the Pearson technique, the data shows that there is no correlation that people will prefer seblak products that are cheaper than others."
   ]
  },
  {
   "cell_type": "markdown",
   "metadata": {},
   "source": [
    "## E. Conclusion"
   ]
  },
  {
   "cell_type": "markdown",
   "metadata": {},
   "source": [
    "From the results of the analysis carried out from the 4 points above, we can now conclude that sales of seblak products on Tokopedia are very promising in the future.\n",
    "\n",
    "This seblak product's sales really helped because of the virality of this product from a celebrity in Indonesia. However, the average rating for seblak products that have been sold is very good at 4.5 and above, which means that consumers like this product not only because it is viral, but also that this seblak product is delicious and popular.\n",
    "\n",
    "In terms of price, seblak products sold on Tokopedia are still very varied, and consumers are not too influenced by cheap or expensive product prices, because there is no correlation between product price and product rating.\n",
    "\n",
    "In terms of sellers, this seblak product is not only popular in Jabodetabek, but is also popular in other cities. This shows again that this seblak product is indeed delicious and liked by Indonesian people in general, not only in big cities.\n",
    "\n",
    "In terms of sales, many seblak products sell more than 500 pcs per month. This shows that the retention rate is good, and again reinforces the point that this seblak product sells not only because it goes viral. However, there are also many sellers who sell their products below 500 pcs per month.\n",
    "\n",
    "In general, in the future we can start selling seblak products on Tokopedia, but we still have to look again at which cities have more consumers than others, so that we can determine the right location to sell. In terms of price, we can determine the price above average, but by making products that are tastier than others, more attractive packaging, and effective promotional techniques."
   ]
  }
 ],
 "metadata": {
  "kernelspec": {
   "display_name": "base",
   "language": "python",
   "name": "python3"
  },
  "language_info": {
   "codemirror_mode": {
    "name": "ipython",
    "version": 3
   },
   "file_extension": ".py",
   "mimetype": "text/x-python",
   "name": "python",
   "nbconvert_exporter": "python",
   "pygments_lexer": "ipython3",
   "version": "3.9.17"
  },
  "orig_nbformat": 4
 },
 "nbformat": 4,
 "nbformat_minor": 2
}
