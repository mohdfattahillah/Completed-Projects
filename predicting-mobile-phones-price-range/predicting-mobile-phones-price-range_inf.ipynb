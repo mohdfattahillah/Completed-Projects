{
 "cells": [
  {
   "cell_type": "markdown",
   "metadata": {},
   "source": [
    "---"
   ]
  },
  {
   "cell_type": "markdown",
   "metadata": {},
   "source": [
    "# **A. IMPORT LIBRARY**"
   ]
  },
  {
   "cell_type": "code",
   "execution_count": 3,
   "metadata": {},
   "outputs": [],
   "source": [
    "import pandas as pd\n",
    "import joblib\n",
    "pd.options.display.max_columns = None"
   ]
  },
  {
   "cell_type": "markdown",
   "metadata": {},
   "source": [
    "---"
   ]
  },
  {
   "cell_type": "markdown",
   "metadata": {},
   "source": [
    "# **B - MODEL LOADING**"
   ]
  },
  {
   "cell_type": "code",
   "execution_count": 4,
   "metadata": {},
   "outputs": [],
   "source": [
    "# Memuat pipeline preprocessing dari berkas\n",
    "preprocessing_pipeline = joblib.load('preprocessing_pipeline.pkl')\n",
    "\n",
    "# Memuat model terbaik dari berkas\n",
    "best_svm_model = joblib.load('best_svm_model.pkl')"
   ]
  },
  {
   "cell_type": "markdown",
   "metadata": {},
   "source": [
    "---"
   ]
  },
  {
   "cell_type": "markdown",
   "metadata": {},
   "source": [
    "# **C - CREATE NEW DATA**"
   ]
  },
  {
   "cell_type": "code",
   "execution_count": 5,
   "metadata": {},
   "outputs": [],
   "source": [
    "# Membuat dataframe baru\n",
    "data = pd.DataFrame({\n",
    "    'name':['Iphone 8', 'Xiaomi Mi6', 'Oppo F3 Plus', 'Nokia 6', 'Xiaomi Redmi Note 3', 'Meizu M2'],\n",
    "    'ram':[2000, 4000, 4000, 4000, 2000, 2000],\n",
    "    'battery_power':[1821, 4200, 4000, 3000, 4000, 2500],\n",
    "    'px_width':[750, 1440, 1080, 1080, 1080, 720],\n",
    "    'px_height':[1334, 2160, 1920, 1920, 1920, 1280],\n",
    "    'int_memory':[64, 64, 256, 64, 16, 16],\n",
    "    'pc':[12, 12, 16, 16, 16, 13]\n",
    "})"
   ]
  },
  {
   "cell_type": "code",
   "execution_count": 6,
   "metadata": {},
   "outputs": [
    {
     "name": "stdout",
     "output_type": "stream",
     "text": [
      "Kolom 'name':\n",
      "0               Iphone 8\n",
      "1             Xiaomi Mi6\n",
      "2           Oppo F3 Plus\n",
      "3                Nokia 6\n",
      "4    Xiaomi Redmi Note 3\n",
      "5               Meizu M2\n",
      "Name: name, dtype: object\n",
      "\n",
      "DataFrame setelah pemisahan:\n",
      "    ram  battery_power  px_width  px_height  int_memory  pc\n",
      "0  2000           1821       750       1334          64  12\n",
      "1  4000           4200      1440       2160          64  12\n",
      "2  4000           4000      1080       1920         256  16\n",
      "3  4000           3000      1080       1920          64  16\n",
      "4  2000           4000      1080       1920          16  16\n",
      "5  2000           2500       720       1280          16  13\n"
     ]
    }
   ],
   "source": [
    "# Memisahkan kolom 'name' dengan indexing\n",
    "data_name = data['name']\n",
    "\n",
    "# Sekarang, 'name' telah dipisahkan dari DataFrame\n",
    "print(\"Kolom 'name':\")\n",
    "print(data_name)\n",
    "\n",
    "# Membuat DataFrame baru tanpa kolom 'name'\n",
    "new_data = data.drop(columns=['name'])\n",
    "\n",
    "print(\"\\nDataFrame setelah pemisahan:\")\n",
    "print(new_data)"
   ]
  },
  {
   "cell_type": "markdown",
   "metadata": {},
   "source": [
    "---"
   ]
  },
  {
   "cell_type": "markdown",
   "metadata": {},
   "source": [
    "# **D - DATA PREPROCESSING**"
   ]
  },
  {
   "cell_type": "markdown",
   "metadata": {},
   "source": [
    "Dikarenakan data baru ini masih mentah, maka harus dilakukan preprocessing terhadap data baru ini, agar bisa dilakukan prediksi oleh model machine learning."
   ]
  },
  {
   "cell_type": "code",
   "execution_count": 7,
   "metadata": {},
   "outputs": [],
   "source": [
    "# Menerapkan pipeline\n",
    "new_data_piped = preprocessing_pipeline.transform(new_data)"
   ]
  },
  {
   "cell_type": "markdown",
   "metadata": {},
   "source": [
    "---"
   ]
  },
  {
   "cell_type": "markdown",
   "metadata": {},
   "source": [
    "# **E - MODEL PREDICTION**"
   ]
  },
  {
   "cell_type": "markdown",
   "metadata": {},
   "source": [
    "Setelah data sudah dilakukan preprocessing menggunakan pipeline, selanjutnya akan dilakukan prediksi rentang harga ponsel terhadap data baru tersebut."
   ]
  },
  {
   "cell_type": "code",
   "execution_count": 8,
   "metadata": {},
   "outputs": [
    {
     "data": {
      "text/plain": [
       "array([2, 3, 3, 3, 3, 2])"
      ]
     },
     "execution_count": 8,
     "metadata": {},
     "output_type": "execute_result"
    }
   ],
   "source": [
    "# Melakukan prediksi terhadap data baru\n",
    "pred = best_svm_model.predict(new_data_piped)\n",
    "pred"
   ]
  },
  {
   "cell_type": "markdown",
   "metadata": {},
   "source": [
    "**Insight:**\n",
    "\n",
    "*Dari hasil diatas menunjukkan bahwa model sudah berhasil memprediksi rentang harga ponsel kepada masing-masing kelasnya.*"
   ]
  },
  {
   "cell_type": "code",
   "execution_count": 9,
   "metadata": {},
   "outputs": [
    {
     "data": {
      "text/html": [
       "<div>\n",
       "<style scoped>\n",
       "    .dataframe tbody tr th:only-of-type {\n",
       "        vertical-align: middle;\n",
       "    }\n",
       "\n",
       "    .dataframe tbody tr th {\n",
       "        vertical-align: top;\n",
       "    }\n",
       "\n",
       "    .dataframe thead th {\n",
       "        text-align: right;\n",
       "    }\n",
       "</style>\n",
       "<table border=\"1\" class=\"dataframe\">\n",
       "  <thead>\n",
       "    <tr style=\"text-align: right;\">\n",
       "      <th></th>\n",
       "      <th>name</th>\n",
       "      <th>ram</th>\n",
       "      <th>battery_power</th>\n",
       "      <th>px_width</th>\n",
       "      <th>px_height</th>\n",
       "      <th>int_memory</th>\n",
       "      <th>pc</th>\n",
       "      <th>price_range</th>\n",
       "    </tr>\n",
       "  </thead>\n",
       "  <tbody>\n",
       "    <tr>\n",
       "      <th>0</th>\n",
       "      <td>Iphone 8</td>\n",
       "      <td>2000</td>\n",
       "      <td>1821</td>\n",
       "      <td>750</td>\n",
       "      <td>1334</td>\n",
       "      <td>64</td>\n",
       "      <td>12</td>\n",
       "      <td>2</td>\n",
       "    </tr>\n",
       "    <tr>\n",
       "      <th>1</th>\n",
       "      <td>Xiaomi Mi6</td>\n",
       "      <td>4000</td>\n",
       "      <td>4200</td>\n",
       "      <td>1440</td>\n",
       "      <td>2160</td>\n",
       "      <td>64</td>\n",
       "      <td>12</td>\n",
       "      <td>3</td>\n",
       "    </tr>\n",
       "    <tr>\n",
       "      <th>2</th>\n",
       "      <td>Oppo F3 Plus</td>\n",
       "      <td>4000</td>\n",
       "      <td>4000</td>\n",
       "      <td>1080</td>\n",
       "      <td>1920</td>\n",
       "      <td>256</td>\n",
       "      <td>16</td>\n",
       "      <td>3</td>\n",
       "    </tr>\n",
       "    <tr>\n",
       "      <th>3</th>\n",
       "      <td>Nokia 6</td>\n",
       "      <td>4000</td>\n",
       "      <td>3000</td>\n",
       "      <td>1080</td>\n",
       "      <td>1920</td>\n",
       "      <td>64</td>\n",
       "      <td>16</td>\n",
       "      <td>3</td>\n",
       "    </tr>\n",
       "    <tr>\n",
       "      <th>4</th>\n",
       "      <td>Xiaomi Redmi Note 3</td>\n",
       "      <td>2000</td>\n",
       "      <td>4000</td>\n",
       "      <td>1080</td>\n",
       "      <td>1920</td>\n",
       "      <td>16</td>\n",
       "      <td>16</td>\n",
       "      <td>3</td>\n",
       "    </tr>\n",
       "    <tr>\n",
       "      <th>5</th>\n",
       "      <td>Meizu M2</td>\n",
       "      <td>2000</td>\n",
       "      <td>2500</td>\n",
       "      <td>720</td>\n",
       "      <td>1280</td>\n",
       "      <td>16</td>\n",
       "      <td>13</td>\n",
       "      <td>2</td>\n",
       "    </tr>\n",
       "  </tbody>\n",
       "</table>\n",
       "</div>"
      ],
      "text/plain": [
       "                  name   ram  battery_power  px_width  px_height  int_memory  \\\n",
       "0             Iphone 8  2000           1821       750       1334          64   \n",
       "1           Xiaomi Mi6  4000           4200      1440       2160          64   \n",
       "2         Oppo F3 Plus  4000           4000      1080       1920         256   \n",
       "3              Nokia 6  4000           3000      1080       1920          64   \n",
       "4  Xiaomi Redmi Note 3  2000           4000      1080       1920          16   \n",
       "5             Meizu M2  2000           2500       720       1280          16   \n",
       "\n",
       "   pc  price_range  \n",
       "0  12            2  \n",
       "1  12            3  \n",
       "2  16            3  \n",
       "3  16            3  \n",
       "4  16            3  \n",
       "5  13            2  "
      ]
     },
     "execution_count": 9,
     "metadata": {},
     "output_type": "execute_result"
    }
   ],
   "source": [
    "# Memasukkan kolom hasil prediksi ke dalam data baru\n",
    "data['price_range'] = pred\n",
    "data"
   ]
  },
  {
   "cell_type": "markdown",
   "metadata": {},
   "source": [
    "**Insight:**\n",
    "\n",
    "*Dari hasil diatas menunjukkan bahwa hasil prediksi sudah berhasil dimasukkan ke dalam kolom baru, dan sudah digabung dengan data baru sebelum dilakukan preprocessing dan modelling.*"
   ]
  },
  {
   "cell_type": "markdown",
   "metadata": {},
   "source": [
    "---"
   ]
  },
  {
   "cell_type": "markdown",
   "metadata": {},
   "source": [
    "# **F - MODEL EVALUATION**"
   ]
  },
  {
   "cell_type": "markdown",
   "metadata": {},
   "source": [
    "*Sebagai kesimpulan, model sudah berhasil dengan sangat baik memprediksi kelas harga ponsel dari data yang baru diberikan kepadanya (kelas 0 = low cost, 1 = medium cost, 2 = high cost, dan 3 = very high cost).*\n",
    "\n",
    "*Berdasarkan data baru tersebut, data ponsel pada index kedua dan ketiga diprediksi ke kelas harga ponsel 1, yaitu medium cost. Ini disebabkan karena ponsel tersebut tidak memiliki fitur bluetooth, dual sim, 4g, dll. Sedangkan untuk data ponsel pada index pertama, keempat, dan kelima terprediksi sebagai kelas ponsel dengan harga high cost dan very high cost. Itu terjadi karena data ponsel pada index tersebut hampir memiliki semua fitur-fitur yang ada, dan juga dipengaruhi dengan ukuran ponsel, performa, dll.*"
   ]
  },
  {
   "cell_type": "markdown",
   "metadata": {},
   "source": [
    "---"
   ]
  }
 ],
 "metadata": {
  "kernelspec": {
   "display_name": "base",
   "language": "python",
   "name": "python3"
  },
  "language_info": {
   "codemirror_mode": {
    "name": "ipython",
    "version": 3
   },
   "file_extension": ".py",
   "mimetype": "text/x-python",
   "name": "python",
   "nbconvert_exporter": "python",
   "pygments_lexer": "ipython3",
   "version": "3.9.17"
  },
  "orig_nbformat": 4
 },
 "nbformat": 4,
 "nbformat_minor": 2
}
